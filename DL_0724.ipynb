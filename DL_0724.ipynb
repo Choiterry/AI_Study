{
 "cells": [
  {
   "cell_type": "markdown",
   "metadata": {},
   "source": [
    "인공신경망 part"
   ]
  },
  {
   "cell_type": "code",
   "execution_count": null,
   "metadata": {},
   "outputs": [],
   "source": [
    "from tensorflow import keras\n",
    "(train_input,train_target),(test_input,test_target) = keras.datasets.fashion_mnist.load_data()\n",
    "print(train_input.shape)\n",
    "print(train_target.shape)"
   ]
  },
  {
   "cell_type": "code",
   "execution_count": null,
   "metadata": {},
   "outputs": [],
   "source": [
    "import matplotlib.pyplot as plt\n",
    "fig, axis = plt.subplots(1,10,figsize = (10,10))\n",
    "for i in range(10):\n",
    "    axis[i].imshow(train_input[i],cmap = 'gray')\n",
    "    axis[i].axis('off')\n",
    "plt.show()"
   ]
  },
  {
   "cell_type": "code",
   "execution_count": null,
   "metadata": {},
   "outputs": [],
   "source": [
    "import numpy as np\n",
    "print(np.unique(train_target,return_counts=True))"
   ]
  },
  {
   "cell_type": "code",
   "execution_count": null,
   "metadata": {},
   "outputs": [],
   "source": [
    "#0부터255까지의 정숫값으로 각 픽셀이 나타나므로 255로 나누어주면서 정규화시킨다\n",
    "train_scaled = train_input/255\n",
    "print(train_scaled.shape)\n",
    "#첫번째 차원(데이터갯수)는 변하지 않고 원본데이터의 두번째 세번째 데이터의 차원이 1차원으로 합쳐진다\n",
    "train_scaled = train_scaled.reshape(-1,28*28)\n",
    "print(train_scaled.shape)"
   ]
  },
  {
   "cell_type": "code",
   "execution_count": null,
   "metadata": {},
   "outputs": [],
   "source": [
    "#모델은 sgdclassifier loss function은 log 함수\n",
    "#교차검증으로 점수를 대충 예측해보기\n",
    "from sklearn.linear_model import SGDClassifier\n",
    "from sklearn.model_selection import cross_validate\n",
    "sc=SGDClassifier(loss='log',max_iter=5,random_state=42)\n",
    "score = cross_validate(sc,train_scaled,train_target,n_jobs=-1)\n",
    "print(np.mean(score['test_score']))"
   ]
  },
  {
   "cell_type": "code",
   "execution_count": null,
   "metadata": {},
   "outputs": [],
   "source": [
    "#이제 DNN을 만들거야\n",
    "import numpy as np\n",
    "from sklearn.model_selection import train_test_split\n",
    "#data = keras.datasets.fashion_mnist.load_data() #이 방법은 tuple 형태로 받아오기 때문에 어쩔 수 없이 train test로 나누어 받는다\n",
    "#어쩔수 없이 받은 train test로 나뉜 데이터를 합치기\n",
    "#먼저 list로 된 target 데이터를 합치기 위해 numpy로 전환\n",
    "train_target = np.array(train_target)\n",
    "test_target = np.array(test_target)\n",
    "#데이터 한번더 reshape해주기\n",
    "train_target = train_target.reshape(-1)\n",
    "test_target = test_target.reshape(-1)\n",
    "#열 합치기 axis=0\n",
    "combined_data = np.concatenate((train_input, test_input), axis=0)\n",
    "combined_target = np.concatenate((train_target, test_target), axis=0)\n",
    "reshaped_data = combined_data.reshape(-1, 28*28)\n",
    "scaled_data = reshaped_data / 255\n",
    "\n",
    "train_scaled,test_scaled,train_target,test_target = train_test_split(scaled_data,combined_target,test_size=0.4,random_state=42)\n",
    "print(train_scaled.shape)\n",
    "print(test_scaled.shape)\n",
    "dense = keras.layers.Dense(10,activation='softmax',input_shape=(784,))# 10은 뉴런의 갯수 784는 입력의 크기\n",
    "model = keras.Sequential(dense)\n",
    "\n",
    "\n",
    "\n"
   ]
  },
  {
   "cell_type": "code",
   "execution_count": null,
   "metadata": {},
   "outputs": [],
   "source": [
    "#원핫인코딩을 통해서 정수로 된 target의 값들을 해당값만 1 나머지는 0으로 보냄으로써\n",
    "#나머지는 계산하지 않고 해당 데이터에 대한 확률만 남기는 방법을 쓴다\n",
    "#아래는 원핫인코딩을 하지 않아도 정수로 된 타깃값을 사용해 크로스 엔트로피 손실을 계산 할 수 있도록 해준다.\n",
    "model.compile(loss='sparse_categorical_crossentropy',metrics = 'accuracy')\n",
    "model.fit(train_scaled,train_target,epochs=10)"
   ]
  },
  {
   "cell_type": "code",
   "execution_count": null,
   "metadata": {},
   "outputs": [],
   "source": [
    "#compile 메서드에서 정한 loss 매개변수와 metrics 에 해당하는 값이 출력된다\n",
    "model.evaluate(test_scaled,test_target)"
   ]
  },
  {
   "cell_type": "code",
   "execution_count": null,
   "metadata": {},
   "outputs": [],
   "source": [
    "#은닉층 생성\n",
    "model = keras.Sequential([\n",
    "    keras.layers.Dense(100,activation='sigmoid',input_shape=(784,),name = 'hidden_layer'),\n",
    "    keras.layers.Dense(10,activation='softmax',name = 'output_layer')],name = 'fashion mnist 모델')\n",
    "model.summary()#output shape 이 none 이라고 뜨는것은 mini-batch를 사용할 것이기 때문에 아직 모른다\n"
   ]
  },
  {
   "cell_type": "code",
   "execution_count": null,
   "metadata": {},
   "outputs": [],
   "source": [
    "#더 쉬운 버전\n",
    "model = keras.Sequential()\n",
    "model.add(keras.layers.Dense(100,activation='sigmoid',input_shape=(784,),name = 'hidden_layer'))\n",
    "model.add(keras.layers.Dense(10,activation='softmax',name = 'output_layer'))\n",
    "model.compile(loss='sparse_categorical_crossentropy',metrics='accuracy')\n",
    "model.fit(train_scaled,train_target,epochs =5)"
   ]
  },
  {
   "cell_type": "code",
   "execution_count": null,
   "metadata": {},
   "outputs": [],
   "source": [
    "#keras에서는flatten을 적용하여 데이터를 reshape 할 수 있다\n",
    "model = keras.Sequential()\n",
    "model.add(keras.layers.Flatten())\n",
    "model.add(keras.layers.Dense(100,activation='relu'))\n",
    "model.add(keras.layers.Dense(10,activation='softmax'))\n",
    "#optimizer안에도 하이퍼파라미터들을 새로 지정해준다\n",
    "#특히 nesterov는 모멘텀 최적화를 두번 반복하여 구현하므로 \n",
    "#최적점에 가까이 갈수록 학습률을 낮출 수 있다->적응적 학습률\n",
    "#sgd = keras.optimizers.SGD(learning_rate=0.1,nesterov=0.9)\n",
    "#adam은 adafrad = keras.optimizers.Adagrad() 와 rmsprop = keras.optimizers.RMSprop()을 합친것\n",
    "adam = keras.optimizers.Adam()\n",
    "model.compile(loss='sparse_categorical_crossentropy',metrics='accuracy',optimizer=adam)\n",
    "model.fit(train_scaled,train_target,epochs =5)\n",
    "model.evaluate(test_scaled,test_target)"
   ]
  },
  {
   "cell_type": "code",
   "execution_count": 6,
   "metadata": {},
   "outputs": [
    {
     "name": "stdout",
     "output_type": "stream",
     "text": [
      "Epoch 1/20\n",
      "1532/1532 [==============================] - 5s 3ms/step - loss: 0.5958 - accuracy: 0.7906 - val_loss: 0.4274 - val_accuracy: 0.8465\n",
      "Epoch 2/20\n",
      "1532/1532 [==============================] - 4s 3ms/step - loss: 0.4440 - accuracy: 0.8398 - val_loss: 0.3831 - val_accuracy: 0.8586\n",
      "Epoch 3/20\n",
      "1532/1532 [==============================] - 5s 3ms/step - loss: 0.4092 - accuracy: 0.8528 - val_loss: 0.4090 - val_accuracy: 0.8455\n",
      "Epoch 4/20\n",
      "1532/1532 [==============================] - 4s 3ms/step - loss: 0.3868 - accuracy: 0.8598 - val_loss: 0.3581 - val_accuracy: 0.8666\n",
      "Epoch 5/20\n",
      "1532/1532 [==============================] - 5s 3ms/step - loss: 0.3746 - accuracy: 0.8626 - val_loss: 0.3479 - val_accuracy: 0.8694\n",
      "Epoch 6/20\n",
      "1532/1532 [==============================] - 5s 3ms/step - loss: 0.3619 - accuracy: 0.8676 - val_loss: 0.3399 - val_accuracy: 0.8747\n",
      "Epoch 7/20\n",
      "1532/1532 [==============================] - 4s 3ms/step - loss: 0.3539 - accuracy: 0.8716 - val_loss: 0.3419 - val_accuracy: 0.8767\n",
      "Epoch 8/20\n",
      "1532/1532 [==============================] - 5s 3ms/step - loss: 0.3456 - accuracy: 0.8729 - val_loss: 0.3252 - val_accuracy: 0.8811\n",
      "Epoch 9/20\n",
      "1532/1532 [==============================] - 5s 3ms/step - loss: 0.3368 - accuracy: 0.8751 - val_loss: 0.3266 - val_accuracy: 0.8800\n",
      "Epoch 10/20\n",
      "1532/1532 [==============================] - 5s 3ms/step - loss: 0.3310 - accuracy: 0.8773 - val_loss: 0.3207 - val_accuracy: 0.8843\n",
      "Epoch 11/20\n",
      "1532/1532 [==============================] - 5s 3ms/step - loss: 0.3229 - accuracy: 0.8806 - val_loss: 0.3271 - val_accuracy: 0.8806\n",
      "Epoch 12/20\n",
      "1532/1532 [==============================] - 5s 3ms/step - loss: 0.3214 - accuracy: 0.8794 - val_loss: 0.3236 - val_accuracy: 0.8796\n",
      "Epoch 13/20\n",
      "1532/1532 [==============================] - 5s 3ms/step - loss: 0.3150 - accuracy: 0.8829 - val_loss: 0.3145 - val_accuracy: 0.8862\n",
      "Epoch 14/20\n",
      "1532/1532 [==============================] - 5s 3ms/step - loss: 0.3095 - accuracy: 0.8850 - val_loss: 0.3270 - val_accuracy: 0.8810\n",
      "Epoch 15/20\n",
      "1532/1532 [==============================] - 4s 3ms/step - loss: 0.3039 - accuracy: 0.8857 - val_loss: 0.3154 - val_accuracy: 0.8812\n",
      "Epoch 16/20\n",
      "1532/1532 [==============================] - 4s 3ms/step - loss: 0.3003 - accuracy: 0.8894 - val_loss: 0.3204 - val_accuracy: 0.8836\n",
      "Epoch 17/20\n",
      "1532/1532 [==============================] - 4s 3ms/step - loss: 0.2974 - accuracy: 0.8884 - val_loss: 0.3169 - val_accuracy: 0.8861\n",
      "Epoch 18/20\n",
      "1532/1532 [==============================] - 4s 3ms/step - loss: 0.2931 - accuracy: 0.8907 - val_loss: 0.3148 - val_accuracy: 0.8872\n",
      "Epoch 19/20\n",
      "1532/1532 [==============================] - 4s 3ms/step - loss: 0.2898 - accuracy: 0.8915 - val_loss: 0.3163 - val_accuracy: 0.8849\n",
      "Epoch 20/20\n",
      "1532/1532 [==============================] - 4s 3ms/step - loss: 0.2859 - accuracy: 0.8917 - val_loss: 0.3124 - val_accuracy: 0.8883\n",
      "dict_keys(['loss', 'accuracy', 'val_loss', 'val_accuracy'])\n"
     ]
    },
    {
     "data": {
      "image/png": "[encoded data removed]",
      "text/plain": [
       "<Figure size 432x288 with 1 Axes>"
      ]
     },
     "metadata": {
      "needs_background": "light"
     },
     "output_type": "display_data"
    },
    {
     "data": {
      "image/png": "[encoded data removed]",
      "text/plain": [
       "<Figure size 432x288 with 1 Axes>"
      ]
     },
     "metadata": {
      "needs_background": "light"
     },
     "output_type": "display_data"
    }
   ],
   "source": [
    "from tensorflow import keras\n",
    "from sklearn.model_selection import train_test_split\n",
    "import numpy as np\n",
    "\n",
    "(train_input,train_target),(test_input,test_target) = keras.datasets.fashion_mnist.load_data()\n",
    "combined_data = np.concatenate((train_input, test_input), axis=0)\n",
    "combined_target = np.concatenate((train_target, test_target), axis=0)\n",
    "reshaped_data = combined_data.reshape(-1, 28*28)\n",
    "scaled_data = reshaped_data / 255\n",
    "\n",
    "\n",
    "#함수형태로 만들기\n",
    "def model_fn(a_layer=None):\n",
    "    model = keras.Sequential()\n",
    "    model.add(keras.layers.Flatten())\n",
    "    model.add(keras.layers.Dense(100,activation='relu'))\n",
    "    if a_layer:\n",
    "        model.add(a_layer)\n",
    "    model.add(keras.layers.Dense(10,activation='softmax'))\n",
    "    return model\n",
    "\n",
    "train_scaled,test_scaled,train_target,test_target = train_test_split(scaled_data,combined_target,test_size=0.3,random_state=42)\n",
    "model = model_fn(keras.layers.Dropout(0.3))#드롭아웃 기법 추가\n",
    "#중요한건 테스트나 예측을 수행할때는 드롭아웃을 사용하지 말아야 한다 훈련할 때만 사용 -> keras 에서 알아서 함\n",
    "model.compile(loss='sparse_categorical_crossentropy',metrics='accuracy',optimizer='adam')\n",
    "#모델과 파라미터 값들을 저장하는 것\n",
    "checkpoint_cb = keras.callbacks.ModelCheckpoint('best-model.h5')\n",
    "#earlystopping 을 사용하는데 파라미터 값에 따라 patience값 동안 연속으로 검증점수가 향상되지 않으면 종료한다\n",
    "#restore_best_weights를 true해놓으면 가장 좋았던 값으로 다시 돌아가 저장한다.\n",
    "early_stopping_cb = keras.callbacks.EarlyStopping(patience=2,restore_best_weights=True)\n",
    "history = model.fit(train_scaled,train_target,epochs =20,validation_data=(test_scaled,test_target),callbacks=[checkpoint_cb,early_stopping_cb])\n",
    "print(early_stopping_cb.stopped_epoch)\n",
    "print(history.history.keys())\n",
    "\n",
    "import matplotlib.pyplot as plt\n",
    "plt.plot(history.history['loss'])\n",
    "plt.plot(history.history['val_loss'])\n",
    "plt.xlabel('epoch')\n",
    "plt.ylabel('loss')\n",
    "plt.legend(['train','val'])\n",
    "plt.show()\n",
    "\n",
    "plt.plot(history.history['accuracy'])\n",
    "plt.plot(history.history['val_accuracy'])\n",
    "plt.xlabel('epoch')\n",
    "plt.ylabel('accuracy')\n",
    "plt.legend(['train','val'])\n",
    "plt.show()\n",
    "model.evaluate(train_target,test_target)"
   ]
  }
 ],
 "metadata": {
  "kernelspec": {
   "display_name": "Python 3",
   "language": "python",
   "name": "python3"
  },
  "language_info": {
   "codemirror_mode": {
    "name": "ipython",
    "version": 3
   },
   "file_extension": ".py",
   "mimetype": "text/x-python",
   "name": "python",
   "nbconvert_exporter": "python",
   "pygments_lexer": "ipython3",
   "version": "3.9.12"
  },
  "orig_nbformat": 4
 },
 "nbformat": 4,
 "nbformat_minor": 2
}
