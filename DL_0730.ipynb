{
 "cells": [
  {
   "cell_type": "code",
   "execution_count": 1,
   "metadata": {},
   "outputs": [
    {
     "name": "stdout",
     "output_type": "stream",
     "text": [
      "torch.Size([4, 4])\n",
      "torch.Size([4, 4])\n",
      "torch.Size([2, 4])\n"
     ]
    }
   ],
   "source": [
    "import torch\n",
    "x = torch.FloatTensor(10,4)\n",
    "splits = x.split(4,dim=0)\n",
    "for s in splits:\n",
    "    print(s.size())"
   ]
  },
  {
   "cell_type": "code",
   "execution_count": 4,
   "metadata": {},
   "outputs": [
    {
     "name": "stdout",
     "output_type": "stream",
     "text": [
      "torch.Size([3, 2, 2])\n",
      "torch.Size([2, 2, 2])\n",
      "tensor([[[5., 5.],\n",
      "         [6., 6.]],\n",
      "\n",
      "        [[3., 3.],\n",
      "         [4., 4.]]])\n"
     ]
    }
   ],
   "source": [
    "x = torch.FloatTensor([[[1,1],[2,2]],[[3,3],[4,4]],[[5,5],[6,6]]])\n",
    "indice = torch.LongTensor([2,1])\n",
    "print(x.size())\n",
    "y = x.index_select(dim=0,index=indice)#\n",
    "print(y.size())\n",
    "print(y)"
   ]
  },
  {
   "cell_type": "code",
   "execution_count": 2,
   "metadata": {},
   "outputs": [
    {
     "ename": "NameError",
     "evalue": "name 'torch' is not defined",
     "output_type": "error",
     "traceback": [
      "\u001b[1;31m---------------------------------------------------------------------------\u001b[0m",
      "\u001b[1;31mNameError\u001b[0m                                 Traceback (most recent call last)",
      "\u001b[1;32mc:\\Users\\hyok1\\OneDrive\\바탕 화면\\GitHub\\AI_Study\\DL_0730.ipynb Cell 3\u001b[0m in \u001b[0;36m<cell line: 2>\u001b[1;34m()\u001b[0m\n\u001b[0;32m      <a href='vscode-notebook-cell:/c%3A/Users/hyok1/OneDrive/%EB%B0%94%ED%83%95%20%ED%99%94%EB%A9%B4/GitHub/AI_Study/DL_0730.ipynb#W2sZmlsZQ%3D%3D?line=0'>1</a>\u001b[0m \u001b[39mimport\u001b[39;00m \u001b[39mtorch\u001b[39;00m\u001b[39m.\u001b[39;00m\u001b[39mnn\u001b[39;00m \u001b[39mas\u001b[39;00m \u001b[39mnn\u001b[39;00m\n\u001b[1;32m----> <a href='vscode-notebook-cell:/c%3A/Users/hyok1/OneDrive/%EB%B0%94%ED%83%95%20%ED%99%94%EB%A9%B4/GitHub/AI_Study/DL_0730.ipynb#W2sZmlsZQ%3D%3D?line=1'>2</a>\u001b[0m x \u001b[39m=\u001b[39m torch\u001b[39m.\u001b[39mFloatTensor(\u001b[39m4\u001b[39m,\u001b[39m3\u001b[39m)\n\u001b[0;32m      <a href='vscode-notebook-cell:/c%3A/Users/hyok1/OneDrive/%EB%B0%94%ED%83%95%20%ED%99%94%EB%A9%B4/GitHub/AI_Study/DL_0730.ipynb#W2sZmlsZQ%3D%3D?line=2'>3</a>\u001b[0m W \u001b[39m=\u001b[39m torch\u001b[39m.\u001b[39mTensor([[\u001b[39m1\u001b[39m,\u001b[39m2\u001b[39m],[\u001b[39m3\u001b[39m,\u001b[39m4\u001b[39m],[\u001b[39m5\u001b[39m,\u001b[39m6\u001b[39m]])\n\u001b[0;32m      <a href='vscode-notebook-cell:/c%3A/Users/hyok1/OneDrive/%EB%B0%94%ED%83%95%20%ED%99%94%EB%A9%B4/GitHub/AI_Study/DL_0730.ipynb#W2sZmlsZQ%3D%3D?line=3'>4</a>\u001b[0m b \u001b[39m=\u001b[39m torch\u001b[39m.\u001b[39mTensor([\u001b[39m2\u001b[39m,\u001b[39m2\u001b[39m])\n",
      "\u001b[1;31mNameError\u001b[0m: name 'torch' is not defined"
     ]
    }
   ],
   "source": [
    "import torch.nn as nn\n",
    "x = torch.FloatTensor(4,3)\n",
    "W = torch.Tensor([[1,2],[3,4],[5,6]])\n",
    "b = torch.Tensor([2,2])\n",
    "\n",
    "def linear(x,W,b):\n",
    "    y = torch.matmul(x,W)+b\n",
    "    return y\n",
    "y = linear(x,W,b)\n",
    "print(y,y.size())\n",
    "\n",
    "class myLinear(nn.Module):\n",
    "    def __init__(self,input_dim=3,output_dim =2):\n",
    "        self.input_dim=input_dim\n",
    "        self.output_dim=output_dim\n",
    "\n",
    "        super().__init__()\n",
    "        self.W = nn.parameter(torch.FloatTensor(input_dim,output_dim))\n",
    "        self.b = nn.parameter(torch.FloatTensor(output_dim))\n",
    "\n",
    "    def forward(self,x):\n",
    "        y = torch.matmul(x,self.W)+self.b\n",
    "        return y\n",
    "\n",
    "linear = myLinear(3,2)\n",
    "y = linear(x)\n",
    "print(y,y.size())\n"
   ]
  },
  {
   "cell_type": "code",
   "execution_count": null,
   "metadata": {},
   "outputs": [],
   "source": []
  }
 ],
 "metadata": {
  "kernelspec": {
   "display_name": "Python 3",
   "language": "python",
   "name": "python3"
  },
  "language_info": {
   "codemirror_mode": {
    "name": "ipython",
    "version": 3
   },
   "file_extension": ".py",
   "mimetype": "text/x-python",
   "name": "python",
   "nbconvert_exporter": "python",
   "pygments_lexer": "ipython3",
   "version": "3.9.12"
  },
  "orig_nbformat": 4
 },
 "nbformat": 4,
 "nbformat_minor": 2
}
