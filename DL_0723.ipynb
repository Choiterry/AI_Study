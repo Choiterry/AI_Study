{
 "cells": [
  {
   "cell_type": "code",
   "execution_count": 4,
   "metadata": {},
   "outputs": [
    {
     "name": "stdout",
     "output_type": "stream",
     "text": [
      "[[1, 9], [2, 8], [3, 7], [4, 6], [5, 5], [6, 4], [7, 3], [8, 2], [9, 1]]\n"
     ]
    }
   ],
   "source": [
    "\n",
    "l = [1,2,3,4,5,6,7,8,9]\n",
    "w = [9,8,7,6,5,4,3,2,1]\n",
    "fish_data = [[l,w] for l,w in zip(l,w)]#zip함수는 나열된 리스트에서 원소를 하나씩 뽑는다\n",
    "print(fish_data)\n",
    "fish_target = [1]*5+ [0]*4"
   ]
  },
  {
   "cell_type": "code",
   "execution_count": 5,
   "metadata": {},
   "outputs": [
    {
     "data": {
      "text/plain": [
       "1.0"
      ]
     },
     "execution_count": 5,
     "metadata": {},
     "output_type": "execute_result"
    }
   ],
   "source": [
    "from sklearn.neighbors import KNeighborsClassifier\n",
    "\n",
    "kn =KNeighborsClassifier()\n",
    "kn.fit (fish_data,fish_target)\n",
    "kn.score(fish_data,fish_target)#알아서 predict를 수행해서 예측점수를 알려준다 여기서는 score할 것과 fit에 들어간 값들이 일치하므로 100점이다\n",
    "\n",
    "#classifier할 개체를 0과1로 나누어 놓고 fit and score 한 것이다.\n",
    "#fish_target 은 classify 할 객체\n",
    "#fish_data는 fish의 정보"
   ]
  },
  {
   "cell_type": "code",
   "execution_count": 6,
   "metadata": {},
   "outputs": [
    {
     "data": {
      "text/plain": [
       "0.0"
      ]
     },
     "execution_count": 6,
     "metadata": {},
     "output_type": "execute_result"
    }
   ],
   "source": [
    "#이제 훈련세트와 트레이닝 세트로 나누어서 진짜로 모델이 어느정도 예측을 하는지 측정한다\n",
    "#data_slicing\n",
    "train_input = fish_data[:5]\n",
    "test_input = fish_data[5:9]\n",
    "\n",
    "train_output = fish_target[:5]\n",
    "test_output = fish_target[5:9]\n",
    "\n",
    "kn.fit (train_input,train_output)\n",
    "kn.score(test_input,test_output)"
   ]
  },
  {
   "cell_type": "code",
   "execution_count": 8,
   "metadata": {},
   "outputs": [
    {
     "name": "stdout",
     "output_type": "stream",
     "text": [
      "[[1 9]\n",
      " [2 8]\n",
      " [3 7]\n",
      " [4 6]\n",
      " [5 5]\n",
      " [6 4]\n",
      " [7 3]\n",
      " [8 2]\n",
      " [9 1]]\n",
      "(9, 2)\n",
      "<built-in method sum of numpy.ndarray object at 0x00000221EA43ACF0>\n"
     ]
    }
   ],
   "source": [
    "#numpy의 사용\n",
    "import numpy as np\n",
    "\n",
    "input_array = np.array(fish_data)\n",
    "output_array = np.array(fish_target)\n",
    "\n",
    "print(input_array)\n",
    "print(input_array.shape)# shape 는 샘플수, 특성수 로 나온다\n",
    "print(input_array.sum)"
   ]
  },
  {
   "cell_type": "code",
   "execution_count": 13,
   "metadata": {},
   "outputs": [],
   "source": [
    "np.random.seed(42)\n",
    "index = np.arange(8)# 0부터9번 인덱스까지 증가하는 배열을 만든다\n",
    "np.random.shuffle(index)# 그 배열을 무작위로 섞는다\n",
    "\n",
    "train_input = input_array[index[:4]] #shuffle 된 숫자로 인덱스\n",
    "test_input = input_array[index[5:9]] #shuffle 된 숫자로 인덱스\n",
    "# 여기서 중요한건 input_array로는 이렇게 넣을 수 있다는 것\n",
    "# fish_data는 이렇게 못 나눈다"
   ]
  },
  {
   "cell_type": "code",
   "execution_count": 18,
   "metadata": {},
   "outputs": [
    {
     "name": "stdout",
     "output_type": "stream",
     "text": [
      "[[1 9]\n",
      " [2 8]\n",
      " [3 7]\n",
      " [4 6]\n",
      " [5 5]\n",
      " [6 4]\n",
      " [7 3]\n",
      " [8 2]\n",
      " [9 1]]\n"
     ]
    }
   ],
   "source": [
    "#튜플은 리스트와 비슷한데 원소에 순서가 있지만 수정할 수 없다.\n",
    "fish_data = np.column_stack((l,w)) # ㅣ과 w를 각각 행으로 쭉 세우고 열로 더헤서 만든 데이터\n",
    "print(fish_data)"
   ]
  },
  {
   "cell_type": "code",
   "execution_count": 20,
   "metadata": {},
   "outputs": [
    {
     "name": "stdout",
     "output_type": "stream",
     "text": [
      "[[1. 9. 1.]\n",
      " [2. 8. 1.]\n",
      " [3. 7. 1.]\n",
      " [4. 6. 1.]\n",
      " [5. 5. 0.]\n",
      " [6. 4. 0.]\n",
      " [7. 3. 0.]\n",
      " [8. 2. 0.]\n",
      " [9. 1. 0.]]\n"
     ]
    }
   ],
   "source": [
    "fish_target = np.concatenate((np.ones(4),np.zeros(5)))\n",
    "data  = np.column_stack((fish_data,fish_target))\n",
    "print(data)\n",
    "# 아래는 그냥 해본것이고 data 와 target을 나누어야 하므로 0과1을 data에 더하지는 않는다"
   ]
  },
  {
   "cell_type": "code",
   "execution_count": null,
   "metadata": {},
   "outputs": [],
   "source": []
  }
 ],
 "metadata": {
  "kernelspec": {
   "display_name": "Python 3",
   "language": "python",
   "name": "python3"
  },
  "language_info": {
   "codemirror_mode": {
    "name": "ipython",
    "version": 3
   },
   "file_extension": ".py",
   "mimetype": "text/x-python",
   "name": "python",
   "nbconvert_exporter": "python",
   "pygments_lexer": "ipython3",
   "version": "3.9.12"
  },
  "orig_nbformat": 4
 },
 "nbformat": 4,
 "nbformat_minor": 2
}
