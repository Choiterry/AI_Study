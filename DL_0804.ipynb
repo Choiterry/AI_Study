{
 "cells": [
  {
   "cell_type": "code",
   "execution_count": 12,
   "metadata": {},
   "outputs": [
    {
     "name": "stdout",
     "output_type": "stream",
     "text": [
      "사용자(인덱스 1)에게 영화 추천:\n",
      "영화 4: 예상 평점 2.78\n",
      "영화 3: 예상 평점 1.86\n",
      "사용자(인덱스 2)에게 영화 추천:\n",
      "영화 2: 예상 평점 2.78\n",
      "영화 1: 예상 평점 1.86\n",
      "사용자(인덱스 3)에게 영화 추천:\n",
      "영화 5: 예상 평점 1.24\n",
      "사용자(인덱스 4)에게 영화 추천:\n",
      "영화 5: 예상 평점 1.75\n"
     ]
    }
   ],
   "source": [
    "#영화 추천 알고리즘\n",
    "#사용자의 이전 영화시청기록이나 평점을 기반으로 추천하는 방법\n",
    "import numpy as np\n",
    "\n",
    "# 가상의 사용자-영화 평점 행렬을 생성합니다.\n",
    "# 사용자A부터 D까지 4명, 영화1부터 5까지 5편의 영화로 가정합니다.\n",
    "# 각 셀은 해당 사용자가 해당 영화에 대해 매긴 평점을 나타냅니다. (0은 평점 미부여를 의미)\n",
    "ratings = np.array([\n",
    "    [5, 4, 0, 0, 1],\n",
    "    [0, 0, 5, 4, 2],\n",
    "    [4, 5, 1, 2, 0],\n",
    "    [1, 2, 4, 5, 0]\n",
    "])\n",
    "\n",
    "# 사용자 간 유사도를 계산하는 함수 (코사인 유사도 사용)\n",
    "def cosine_similarity(user1, user2):\n",
    "    return np.dot(user1, user2) / (np.linalg.norm(user1) * np.linalg.norm(user2))\n",
    "\n",
    "# 사용자별로 다른 사용자와의 유사도 계산해서 매트릭스로 나타냄\n",
    "def compute_similarity_matrix(ratings):\n",
    "    num_users = ratings.shape[0]\n",
    "    similarity_matrix = np.zeros((num_users, num_users))\n",
    "    for i in range(num_users):\n",
    "        for j in range(num_users):\n",
    "            similarity_matrix[i, j] = cosine_similarity(ratings[i], ratings[j])\n",
    "    return similarity_matrix\n",
    "\n",
    "# 사용자에게 영화를 추천하는 함수\n",
    "def get_movie_recommendations(user_id, ratings, similarity_matrix, num_recommendations=3):\n",
    "    user_ratings = ratings[user_id]\n",
    "    similar_users = np.argsort(similarity_matrix[user_id])[::-1]  # 유사도 높은 사용자 순으로 정렬\n",
    "    recommendations = []\n",
    "    for movie_id in range(ratings.shape[1]):\n",
    "        if user_ratings[movie_id] == 0:  # 해당 영화를 아직 평가하지 않은 경우에만 추천\n",
    "            weighted_sum = 0\n",
    "            weight_sum = 0\n",
    "            for similar_user in similar_users:\n",
    "                if ratings[similar_user, movie_id] > 0:  # 해당 영화에 대해 평가한 경우에만 사용\n",
    "                    similarity = similarity_matrix[user_id, similar_user]\n",
    "                    weighted_sum += similarity * ratings[similar_user, movie_id]\n",
    "                    weight_sum += similarity\n",
    "            if weight_sum > 0:\n",
    "                predicted_rating = weighted_sum / weight_sum\n",
    "                recommendations.append((movie_id, predicted_rating))\n",
    "    recommendations.sort(key=lambda x: x[1], reverse=True)\n",
    "    return recommendations[:num_recommendations]\n",
    "\n",
    "similarity_matrix = compute_similarity_matrix(ratings)\n",
    "\n",
    "# 결과 출력\n",
    "for user_id in range(ratings.shape[0]):\n",
    "    recommended_movies = get_movie_recommendations(user_id, ratings, similarity_matrix)\n",
    "    print(f\"사용자(인덱스 {user_id+1})에게 영화 추천:\")\n",
    "    for movie_id, rating in recommended_movies:\n",
    "        print(f\"영화 {movie_id + 1}: 예상 평점 {rating:.2f}\")\n"
   ]
  },
  {
   "cell_type": "code",
   "execution_count": 16,
   "metadata": {},
   "outputs": [
    {
     "name": "stderr",
     "output_type": "stream",
     "text": [
      "No model was supplied, defaulted to distilbert-base-uncased-finetuned-sst-2-english and revision af0f99b (https://huggingface.co/distilbert-base-uncased-finetuned-sst-2-english).\n",
      "Using a pipeline without specifying a model name and revision in production is not recommended.\n"
     ]
    },
    {
     "name": "stdout",
     "output_type": "stream",
     "text": [
      "감정 분석 결과: NEGATIVE\n",
      "해당하는 감정에 대한 영화를 찾을 수 없습니다.\n"
     ]
    }
   ],
   "source": [
    "from transformers import pipeline\n",
    "\n",
    "# 가상의 영화 데이터: 영화와 관련된 특성 정보\n",
    "movies_data = {\n",
    "    \"The Dark Knight\": {\"genre\": \"action\", \"cast\": [\"Christian Bale\", \"Heath Ledger\"], \"director\": \"Christopher Nolan\"},\n",
    "    \"La La Land\": {\"genre\": \"romance\", \"cast\": [\"Ryan Gosling\", \"Emma Stone\"], \"director\": \"Damien Chazelle\"},\n",
    "    \"Deadpool\": {\"genre\": \"comedy\", \"cast\": [\"Ryan Reynolds\"], \"director\": \"Tim Miller\"},\n",
    "    \"The Conjuring\": {\"genre\": \"horror\", \"cast\": [\"Vera Farmiga\", \"Patrick Wilson\"], \"director\": \"James Wan\"},\n",
    "    # 추가 영화 정보\n",
    "}\n",
    "\n",
    "# 감정 분석을 위한 Sentiment Analysis 모델 로드\n",
    "sentiment_analysis_model = pipeline(\"sentiment-analysis\")\n",
    "\n",
    "# 영화 추천 함수\n",
    "def get_movie_recommendation(user_input):\n",
    "    # 사용자의 감정 분석\n",
    "    user_sentiment = sentiment_analysis_model(user_input.lower())[0][\"label\"]\n",
    "    print(f\"감정 분석 결과: {user_sentiment}\")\n",
    "\n",
    "    # 사용자의 감정에 따른 영화 추천\n",
    "    recommended_movies = []\n",
    "    for movie, info in movies_data.items():\n",
    "        if info[\"genre\"] == user_sentiment:\n",
    "            recommended_movies.append(movie)\n",
    "\n",
    "    return recommended_movies\n",
    "\n",
    "# 사용자의 감정을 입력받아서 영화 추천\n",
    "user_input = input(\"감정을 입력하세요: \")\n",
    "recommended_movies = get_movie_recommendation(user_input)\n",
    "\n",
    "if recommended_movies:\n",
    "    print(f\"추천하는 영화들 (감정: {get_movie_recommendation.user_sentiment}):\")\n",
    "    for movie in recommended_movies:\n",
    "        print(movie)\n",
    "else:\n",
    "    print(\"해당하는 감정에 대한 영화를 찾을 수 없습니다.\")\n"
   ]
  },
  {
   "cell_type": "code",
   "execution_count": null,
   "metadata": {},
   "outputs": [],
   "source": []
  }
 ],
 "metadata": {
  "kernelspec": {
   "display_name": "Python 3",
   "language": "python",
   "name": "python3"
  },
  "language_info": {
   "codemirror_mode": {
    "name": "ipython",
    "version": 3
   },
   "file_extension": ".py",
   "mimetype": "text/x-python",
   "name": "python",
   "nbconvert_exporter": "python",
   "pygments_lexer": "ipython3",
   "version": "3.9.12"
  },
  "orig_nbformat": 4
 },
 "nbformat": 4,
 "nbformat_minor": 2
}
